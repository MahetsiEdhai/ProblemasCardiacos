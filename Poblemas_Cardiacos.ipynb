{
 "cells": [
  {
   "cell_type": "code",
   "execution_count": null,
   "metadata": {},
   "outputs": [],
   "source": [
    "#importamos librerias\n",
    "%matplotlib inline\n",
    "import matplotlib.pyplot as plt\n",
    "import pandas as pd\n",
    "import numpy as np"
   ]
  },
  {
   "cell_type": "code",
   "execution_count": null,
   "metadata": {},
   "outputs": [],
   "source": [
    "#cargamos nuestra base de datos\n",
    "datos = \"heart_disease.csv\"\n",
    "df = pd.read_csv(datos)"
   ]
  },
  {
   "cell_type": "markdown",
   "metadata": {},
   "source": [
    "## Analisis exploratorio de los datos"
   ]
  },
  {
   "cell_type": "code",
   "execution_count": null,
   "metadata": {},
   "outputs": [],
   "source": [
    "#vemos los primeros registros\n",
    "df.head()"
   ]
  },
  {
   "cell_type": "code",
   "execution_count": null,
   "metadata": {},
   "outputs": [],
   "source": [
    "#vemos los valores de las variables\n",
    "df.columns.values"
   ]
  },
  {
   "cell_type": "code",
   "execution_count": null,
   "metadata": {},
   "outputs": [],
   "source": [
    "#mostramos el total de filas y columnas\n",
    "df.shape"
   ]
  },
  {
   "cell_type": "code",
   "execution_count": null,
   "metadata": {},
   "outputs": [],
   "source": [
    "#vemos los tipos de variables con los cuales trabajaremos\n",
    "df.dtypes"
   ]
  },
  {
   "cell_type": "code",
   "execution_count": null,
   "metadata": {},
   "outputs": [],
   "source": [
    "#hacemos un histograma con la columna edad, en el eje x los años\n",
    "df['age'].hist(bins=50, figsize=(10, 10))"
   ]
  },
  {
   "cell_type": "code",
   "execution_count": null,
   "metadata": {},
   "outputs": [],
   "source": [
    "#hacemos histograma con todas las variables\n",
    "df.hist(bins=50, figsize=(20, 15))"
   ]
  },
  {
   "cell_type": "code",
   "execution_count": null,
   "metadata": {},
   "outputs": [],
   "source": [
    "#hacemos un diagrama de correlacion\n",
    "from pandas.plotting import scatter_matrix\n",
    "atributos = [\"age\",\"trestbps\",\"chol\",\"thalach\"]\n",
    "scatter_matrix(df[atributos], figsize=(12, 8))"
   ]
  },
  {
   "cell_type": "code",
   "execution_count": null,
   "metadata": {},
   "outputs": [],
   "source": [
    "#creamos una matriz de correlacion numerica (coeficiente de correlacion de pearson)\n",
    "df[atributos].corr(method = 'pearson').round(2)"
   ]
  },
  {
   "cell_type": "code",
   "execution_count": null,
   "metadata": {},
   "outputs": [],
   "source": [
    "#cramos la matriz de correlacion visual\n",
    "plt.matshow(df[atributos].corr())\n",
    "plt.show()"
   ]
  },
  {
   "cell_type": "code",
   "execution_count": null,
   "metadata": {},
   "outputs": [],
   "source": [
    "#ocupamos seaborn (pip install seaborn), y creamos una matriz de correlacion visual\n",
    "import seaborn as sn\n",
    "corrMatrix = df[atributos].corr()\n",
    "sn.heatmap(corrMatrix.round(2), annot = True, cmap='coolwarm')\n",
    "plt.show()"
   ]
  },
  {
   "cell_type": "markdown",
   "metadata": {},
   "source": [
    "### PREPARAMOS LOS DATOS PARA  LOS ALGORITMOS DE MACHINE LEARNING"
   ]
  },
  {
   "cell_type": "code",
   "execution_count": null,
   "metadata": {},
   "outputs": [],
   "source": [
    "#creamos datos para x (quitamos la columna de target)\n",
    "X = df.drop('target', axis = 1)\n",
    "X"
   ]
  },
  {
   "cell_type": "code",
   "execution_count": null,
   "metadata": {},
   "outputs": [],
   "source": [
    "# tenemos X ahora vamos a crear Y (osea el nuevo valor para target)\n",
    "y = df['target']\n",
    "y"
   ]
  },
  {
   "cell_type": "code",
   "execution_count": null,
   "metadata": {},
   "outputs": [],
   "source": [
    "# dividimos nuestros datos para entrenar y testear, antes importamos sklearn\n",
    "from sklearn.model_selection import train_test_split\n",
    "X_train, X_test, y_train, y_test = train_test_split(X, y)"
   ]
  },
  {
   "cell_type": "code",
   "execution_count": null,
   "metadata": {},
   "outputs": [],
   "source": [
    "#revisamos el tamaño de las muestras\n",
    "X_train.shape, X_test.shape, y_train.shape, y_test.shape"
   ]
  },
  {
   "cell_type": "markdown",
   "metadata": {},
   "source": [
    "### SELECCIONAMOS UN MODELO Y REALIZAMOS EL ENTRENAMIENTO\n",
    "#### EN ESTE CASO OCUPAMOS DOS DECISION TREE Y RANDOM FOREST  "
   ]
  },
  {
   "cell_type": "code",
   "execution_count": null,
   "metadata": {},
   "outputs": [],
   "source": [
    "# modulos del modelo: arbol de decision\n",
    "from sklearn.tree import DecisionTreeClassifier, export_graphviz\n",
    "from sklearn.preprocessing import LabelEncoder\n",
    "from sklearn.metrics import accuracy_score\n"
   ]
  },
  {
   "cell_type": "code",
   "execution_count": null,
   "metadata": {},
   "outputs": [],
   "source": [
    "# llamamos a una variable que contenga nuestro modelo\n",
    "model = DecisionTreeClassifier(random_state = 17, max_depth = 5, min_samples_leaf = 5)"
   ]
  },
  {
   "cell_type": "code",
   "execution_count": null,
   "metadata": {},
   "outputs": [],
   "source": [
    "# ajustamos el modelo de acuerdo al entrenamiento\n",
    "model.fit(X_train, y_train)"
   ]
  },
  {
   "cell_type": "code",
   "execution_count": null,
   "metadata": {},
   "outputs": [],
   "source": [
    "#hacemos predicciones con las variables test\n",
    "y_pred = model.predict(X_test)\n",
    "y_pred"
   ]
  },
  {
   "cell_type": "code",
   "execution_count": null,
   "metadata": {},
   "outputs": [],
   "source": [
    "# comparamos con los valores de y que ya teniamos en y_test\n",
    "y_test.values"
   ]
  },
  {
   "cell_type": "code",
   "execution_count": null,
   "metadata": {},
   "outputs": [],
   "source": [
    "# comprobamos donde acerto y donde se equivoco, True es acerto y False es que erro\n",
    "np.equal(y_pred, y_test.values)"
   ]
  },
  {
   "cell_type": "code",
   "execution_count": null,
   "metadata": {},
   "outputs": [],
   "source": [
    "# vemos el Score del modelo numericamente, calculo valores en X_test y compara con y_test\n",
    "model.score(X_test, y_test)"
   ]
  },
  {
   "cell_type": "markdown",
   "metadata": {},
   "source": [
    "## AFINAMOS EL MODELO (FINE TUNE)"
   ]
  },
  {
   "cell_type": "code",
   "execution_count": null,
   "metadata": {},
   "outputs": [],
   "source": [
    "# definimos dos ciclos uno dentro de otro para iterar i y j y encontrar los mejores parametros\n",
    "for j in range(1,8,2):\n",
    "    for i in range(1,8,2):\n",
    "        print(f'Modelo con {i} max_depth, {j} min_samples_leaf')\n",
    "        model = DecisionTreeClassifier(random_state = 17, max_depth = i, min_samples_leaf = j)\n",
    "        model.fit(X_train, y_train)\n",
    "        print(f'Precision: {model.score(X_test, y_test)}')\n",
    "        print('-------')"
   ]
  },
  {
   "cell_type": "markdown",
   "metadata": {},
   "source": [
    "## PROBAMOS CON EL MODELO DE RANDOM FOREST"
   ]
  },
  {
   "cell_type": "code",
   "execution_count": null,
   "metadata": {},
   "outputs": [],
   "source": [
    "# MODULOS PARA EL MODELO RandomForestClassifier\n",
    "from sklearn.ensemble import RandomForestClassifier"
   ]
  },
  {
   "cell_type": "code",
   "execution_count": null,
   "metadata": {},
   "outputs": [],
   "source": [
    "# asignamos nuestro modelo a una variable...n:estimators es el numero de arboles\n",
    "model = RandomForestClassifier (random_state = 17, \n",
    "                                max_depth = 5,\n",
    "                                n_estimators = 10 )"
   ]
  },
  {
   "cell_type": "code",
   "execution_count": null,
   "metadata": {},
   "outputs": [],
   "source": [
    "#ajustamos el modelo\n",
    "model.fit(X_train, y_train)"
   ]
  },
  {
   "cell_type": "code",
   "execution_count": null,
   "metadata": {},
   "outputs": [],
   "source": [
    "#vemos nuestra prediccion\n",
    "y_pred = model.predict(X_test)\n",
    "y_pred"
   ]
  },
  {
   "cell_type": "code",
   "execution_count": null,
   "metadata": {},
   "outputs": [],
   "source": [
    "# comparamos con los valores reales\n",
    "np.equal(y_pred, y_test.values)"
   ]
  },
  {
   "cell_type": "code",
   "execution_count": null,
   "metadata": {},
   "outputs": [],
   "source": [
    "#vemos el Score\n",
    "model.score(X_test, y_test)"
   ]
  },
  {
   "cell_type": "markdown",
   "metadata": {},
   "source": [
    "# ajustamos el modelo para intentar mejorarlo"
   ]
  },
  {
   "cell_type": "code",
   "execution_count": null,
   "metadata": {},
   "outputs": [],
   "source": [
    "#hacemos una interacion RandomForestClassifier(random_state = 17,max_depth = 5,n_estimators = i)\n",
    "for i in range(10, 50, 10):\n",
    "    print(f'Modelo con n_estimators = {i}')\n",
    "    model = RandomForestClassifier(random_state = 17,\n",
    "                                   max_depth = 5,\n",
    "                                   n_estimators = i)\n",
    "    model.fit(X_train, y_train)\n",
    "    print(f'Precision: {model.score(X_test, y_test)}')\n",
    "    print('-------')"
   ]
  },
  {
   "cell_type": "markdown",
   "metadata": {},
   "source": [
    "## SOLUCION AL PROBLEMA"
   ]
  },
  {
   "cell_type": "markdown",
   "metadata": {},
   "source": [
    "EN ESTE EJERCICIO OCUPE DOS ALGORITMOS:\n",
    "\n",
    "ARBOL DE DECISION EL CUAL NOS DIO UNA PREDICCION DEL 0.8289473684210527 (83%) AJUSTANDO LOS PARAMETROS A 3 max_depth, 3 min_samples_leaf\n",
    "\n",
    "RANDOM FOREST EL CUAL NOS DIO UNA PRECISION DEL 0.8289473684210527 (83%) AJUSTANDO LOS PARAMETROS DEL MODELO A n_estimators = 30"
   ]
  },
  {
   "cell_type": "code",
   "execution_count": null,
   "metadata": {},
   "outputs": [],
   "source": [
    "#for j in range(1,50,10):\n",
    "#    for i in range(1,50,10):\n",
    "#        print(f'Modelo con {i} max_depth, {j} n_estimators')\n",
    "#        model = DecisionTreeClassifier(random_state = 20, max_depth = i, min_samples_leaf = j)\n",
    "#        model.fit(X_train, y_train)\n",
    "#        print(f'Precision: {model.score(X_test, y_test)}')\n",
    "#        print('-------')"
   ]
  }
 ],
 "metadata": {
  "kernelspec": {
   "display_name": "Python 3",
   "language": "python",
   "name": "python3"
  },
  "language_info": {
   "codemirror_mode": {
    "name": "ipython",
    "version": 3
   },
   "file_extension": ".py",
   "mimetype": "text/x-python",
   "name": "python",
   "nbconvert_exporter": "python",
   "pygments_lexer": "ipython3",
   "version": "3.8.5"
  }
 },
 "nbformat": 4,
 "nbformat_minor": 4
}
